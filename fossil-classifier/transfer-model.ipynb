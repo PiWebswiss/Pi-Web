{
 "cells": [
  {
   "cell_type": "code",
   "execution_count": null,
   "metadata": {},
   "outputs": [],
   "source": [
    "import tensorflow as tf\n",
    "model = tf.keras.models.load_model(\"best-model-fossil-vs-non.h5\")\n",
    "\n",
    "model.summary()"
   ]
  },
  {
   "cell_type": "code",
   "execution_count": null,
   "metadata": {},
   "outputs": [],
   "source": [
    "import tensorflowjs as tfjs\n",
    "\n",
    "\n",
    "tfjs.converters.save_keras_model(model, \"model-fossil-vs-non\")\n",
    "\n"
   ]
  },
  {
   "cell_type": "code",
   "execution_count": null,
   "metadata": {},
   "outputs": [],
   "source": [
    "\"\"\" # Define the path to the SavedModel and the output directory\n",
    "saved_model_path = r\"C:\\Users\\louis\\OneDrive\\Bureau\\(OCR) Solution\\fossil-classifier-best-model\"\n",
    "output_path = r\"C:\\Users\\louis\\OneDrive\\Bureau\\(OCR) Solution\\fossil-classifier-model\"\n",
    "\n",
    "# Convert the model\n",
    "tfjs.converters.convert_tf_saved_model(saved_model_path, output_path) \"\"\""
   ]
  }
 ],
 "metadata": {
  "language_info": {
   "name": "python"
  }
 },
 "nbformat": 4,
 "nbformat_minor": 2
}
