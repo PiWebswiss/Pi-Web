{
 "cells": [
  {
   "cell_type": "code",
   "execution_count": null,
   "metadata": {},
   "outputs": [],
   "source": [
    "# Convert img to WebP"
   ]
  },
  {
   "cell_type": "code",
   "execution_count": 38,
   "metadata": {},
   "outputs": [
    {
     "data": {
      "text/plain": [
       "['agnatha.jpg',\n",
       " 'ammonoid.jpg',\n",
       " 'amphibian.jpg',\n",
       " 'angiosperm.jpg',\n",
       " 'avialae.jpg',\n",
       " 'belemnite.jpg',\n",
       " 'bivalve.jpg',\n",
       " 'blastoid.jpg',\n",
       " 'bone fragment.jpg',\n",
       " 'brachiopod.jpg',\n",
       " 'bryozoan.jpg',\n",
       " 'chelicerate.jpg',\n",
       " 'chondrichthyes.jpg',\n",
       " 'conodont.jpg',\n",
       " 'crinoid.jpg',\n",
       " 'crocodylomorph.jpg',\n",
       " 'crustacean.jpg',\n",
       " 'echinoid.jpg',\n",
       " 'gastropod.jpg',\n",
       " 'graptolite.jpg',\n",
       " 'gymnosperm.jpg',\n",
       " 'image coral.jpg',\n",
       " 'image insect.jpg',\n",
       " 'mammal teeth.jpg',\n",
       " 'mammal.jpg',\n",
       " 'marine reptile.jpg',\n",
       " 'myriapod.jpg',\n",
       " 'nautiloid.jpg',\n",
       " 'ophiuroid.jpg',\n",
       " 'ornithischian.jpg',\n",
       " 'osteichthyes.jpg',\n",
       " 'petrified wood.jpg',\n",
       " 'placoderms.jpg',\n",
       " 'pteridophyte.jpg',\n",
       " 'pterosaurs.jpg',\n",
       " 'reptile teeth.jpg',\n",
       " 'sauropodomorph.jpg',\n",
       " 'shark teeth.jpg',\n",
       " 'snake.jpg',\n",
       " 'sponge.jpg',\n",
       " 'starfish.jpg',\n",
       " 'stromatolite.jpg',\n",
       " 'theropod.jpg',\n",
       " 'trace fossil.jpg',\n",
       " 'trilobite.jpg',\n",
       " 'turtle.jpg']"
      ]
     },
     "execution_count": 38,
     "metadata": {},
     "output_type": "execute_result"
    }
   ],
   "source": [
    "from PIL import Image\n",
    "import os\n",
    "\n",
    "dir_path = \"fossil-classifier\\\\public\\\\fossil image\"\n",
    "dir_list = os.listdir(dir_path)\n",
    "dir_list = [file for file in dir_list if file.endswith((\"png\", \"jpg\"))]\n",
    "dir_list\n"
   ]
  },
  {
   "cell_type": "code",
   "execution_count": null,
   "metadata": {},
   "outputs": [],
   "source": []
  },
  {
   "cell_type": "code",
   "execution_count": 39,
   "metadata": {},
   "outputs": [
    {
     "name": "stdout",
     "output_type": "stream",
     "text": [
      "Done\n"
     ]
    }
   ],
   "source": [
    "import re\n",
    "\n",
    "# Regular expression pattern\n",
    "pattern = r\"(.+?)(?:\\.(png|jpg))\"\n",
    "\n",
    "def change_format_to_webP(filename, path, dir_path):\n",
    "    new_path = os.path.join(dir_path, filename + \".webp\")\n",
    "    with Image.open(path) as f:\n",
    "        f.save(new_path, \"webp\")\n",
    "        \n",
    " \n",
    "        \n",
    "        \n",
    "for file in dir_list:\n",
    "    old_path = os.path.join(dir_path, file)\n",
    "    match = re.match(pattern, file)\n",
    "    if match:\n",
    "        change_format_to_webP(match.group(1), old_path, dir_path)\n",
    "    os.remove(old_path)\n",
    "\n",
    "print(\"Done\")"
   ]
  },
  {
   "cell_type": "code",
   "execution_count": 23,
   "metadata": {},
   "outputs": [],
   "source": [
    "change_format_to_webP(\"AI fossil\", \"image/AI fossil.png\", dir_path=\"image/\")"
   ]
  }
 ],
 "metadata": {
  "kernelspec": {
   "display_name": "Python 3",
   "language": "python",
   "name": "python3"
  },
  "language_info": {
   "codemirror_mode": {
    "name": "ipython",
    "version": 3
   },
   "file_extension": ".py",
   "mimetype": "text/x-python",
   "name": "python",
   "nbconvert_exporter": "python",
   "pygments_lexer": "ipython3",
   "version": "3.10.11"
  }
 },
 "nbformat": 4,
 "nbformat_minor": 2
}
